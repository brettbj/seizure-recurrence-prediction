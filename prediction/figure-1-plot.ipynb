{
 "cells": [
  {
   "cell_type": "code",
   "execution_count": null,
   "id": "51d8aeeb-5157-4e3d-8756-6b7ab569f5ed",
   "metadata": {
    "tags": []
   },
   "outputs": [],
   "source": [
    "import pandas as pd\n",
    "\n",
    "score_df = pd.read_csv('./data/structured_data_scores_comp.csv')\n",
    "score_df"
   ]
  },
  {
   "cell_type": "code",
   "execution_count": null,
   "id": "a57e374b-af7c-484c-95f3-2a31f69db672",
   "metadata": {
    "tags": []
   },
   "outputs": [],
   "source": [
    "print(score_df.shape)\n",
    "for i in range(5):\n",
    "    print(i)\n",
    "    \n",
    "    df = pd.read_csv(f\"./data/score_transformer_composite_0_{i}.csv\")\n",
    "    score_df = pd.concat([score_df, df])\n",
    "    print(score_df.shape)"
   ]
  },
  {
   "cell_type": "code",
   "execution_count": null,
   "id": "bf1284eb-0e0d-48a7-8718-5746c984dc3a",
   "metadata": {
    "tags": []
   },
   "outputs": [],
   "source": [
    "score_df['metric'] = score_df['metric'].str.replace('roc', 'auroc')\n",
    "score_df['metric'] = score_df['metric'].str.replace('auc', 'auroc')"
   ]
  },
  {
   "cell_type": "code",
   "execution_count": null,
   "id": "a2cc6841-a561-459a-8211-7ba4f1520fbc",
   "metadata": {
    "tags": []
   },
   "outputs": [],
   "source": [
    "score_df['metric'].value_counts()"
   ]
  },
  {
   "cell_type": "code",
   "execution_count": null,
   "id": "1f5c1beb-1839-4de1-b0d9-a7b1b1b8781c",
   "metadata": {
    "tags": []
   },
   "outputs": [],
   "source": [
    "pdf = score_df.loc[(score_df['outcome']=='composite') & (score_df['metric'].isin(['f1', 'auroc']))]\n",
    "\n",
    "import seaborn as sns\n",
    "import matplotlib.pyplot as plt\n",
    "\n",
    "sns.set_context(\"poster\")\n",
    "sns.set_theme(style=\"ticks\", palette=\"Set2\")\n",
    "plt.figure(figsize=(8, 8))\n",
    "g = sns.boxplot(x=\"metric\", y=\"score\", hue=\"method\",\n",
    "                data=pdf,\n",
    "               )\n",
    "\n",
    "plt.ylim(0.5,1)\n",
    "plt.xticks(rotation=90)"
   ]
  },
  {
   "cell_type": "code",
   "execution_count": null,
   "id": "c9909c09-41fa-4eb0-bae2-cc34ff89665d",
   "metadata": {
    "tags": []
   },
   "outputs": [],
   "source": [
    "# Draw a nested boxplot to show bills by day and time\n",
    "\n",
    "import seaborn as sns\n",
    "import matplotlib.pyplot as plt\n",
    "\n",
    "sns.set_context(\"poster\")\n",
    "sns.set_theme(style=\"ticks\", palette=\"Set2\")\n",
    "g = sns.catplot(x=\"metric\", y=\"score\",\n",
    "                hue=\"method\", col='outcome', data=score_df,\n",
    "                kind=\"box\", height=9, sharey=True, \n",
    "                col_wrap=3\n",
    "               )\n",
    "g.axes[0].set_ylim(0, 1)\n",
    "# g.set(ylim(0, 1))\n",
    "g.map_dataframe(sns.stripplot, x=\"metric\", y=\"score\",\n",
    "            hue=\"method\", palette=[\"#404040\"], alpha=0.6, dodge=True)\n",
    "sns.despine(offset=10, trim=True)"
   ]
  },
  {
   "cell_type": "code",
   "execution_count": null,
   "id": "356f4d56-1f9d-4814-9f5a-d6243514f181",
   "metadata": {
    "tags": []
   },
   "outputs": [],
   "source": [
    "pdf = score_df.loc[score_df['metric']=='f1']\n",
    "\n",
    "import seaborn as sns\n",
    "import matplotlib.pyplot as plt\n",
    "\n",
    "sns.set_context(\"poster\")\n",
    "sns.set_theme(style=\"ticks\", palette=\"Set2\")\n",
    "plt.figure(figsize=(8, 8))\n",
    "g = sns.boxplot(x=\"outcome\", y=\"score\", hue=\"method\",\n",
    "                data=pdf,\n",
    "               )\n",
    "plt.xticks(rotation=90)"
   ]
  },
  {
   "cell_type": "code",
   "execution_count": null,
   "id": "a80993dd-4687-4daf-a9bc-8439d5f20b52",
   "metadata": {
    "tags": []
   },
   "outputs": [],
   "source": [
    "pdf = score_df.loc[score_df['outcome']=='composite']\n",
    "\n",
    "import seaborn as sns\n",
    "import matplotlib.pyplot as plt\n",
    "\n",
    "sns.set_context(\"poster\")\n",
    "plt.figure(figsize=(8, 8))\n",
    "sns.set_theme(style=\"ticks\", palette=\"Set2\")\n",
    "g = sns.boxplot(x=\"metric\", y=\"score\", hue=\"method\",\n",
    "                data=pdf\n",
    "               )\n",
    "plt.xticks(rotation=90)"
   ]
  }
 ],
 "metadata": {
  "kernelspec": {
   "display_name": "tf-metal",
   "language": "python",
   "name": "tf-metal"
  },
  "language_info": {
   "codemirror_mode": {
    "name": "ipython",
    "version": 3
   },
   "file_extension": ".py",
   "mimetype": "text/x-python",
   "name": "python",
   "nbconvert_exporter": "python",
   "pygments_lexer": "ipython3",
   "version": "3.9.16"
  }
 },
 "nbformat": 4,
 "nbformat_minor": 5
}
