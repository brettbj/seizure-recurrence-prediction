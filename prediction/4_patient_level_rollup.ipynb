{
 "cells": [
  {
   "cell_type": "code",
   "execution_count": null,
   "id": "e46918dc-44d4-4217-8596-a7730ea26911",
   "metadata": {
    "tags": []
   },
   "outputs": [],
   "source": [
    "import os\n",
    "os.environ[\"CUDA_LAUNCH_BLOCKING\"] = \"0\"\n",
    "\n",
    "from accelerate import Accelerator\n",
    "\n",
    "import pandas as pd\n",
    "import numpy as np\n",
    "\n",
    "neurology_notes = ['NOTE:125942859', 'NOTE:2820514', 'NOTE:4127998', 'NOTE:4127189', 'NOTE:3817544', 'NOTE:4776343', 'NOTE:67621192', 'NOTE:4127201', 'NOTE:4128000', 'NOTE:4127729', 'NOTE:4127835', 'NOTE:4127923', 'NOTE:4293224', 'NOTE:4127989', 'NOTE:4127595', 'NOTE:4776342', 'NOTE:4293221', 'NOTE:4633365', 'NOTE:4127190', 'NOTE:4127226', 'NOTE:4127203', 'NOTE:4127515', 'NOTE:4127192', 'NOTE:4127524', 'NOTE:4127586', 'NOTE:4293218', 'NOTE:3827999', 'NOTE:4127522', 'NOTE:4127837', 'NOTE:4127194', 'NOTE:599038309', 'NOTE:4127597', 'NOTE:4127999', 'NOTE:4293225', 'NOTE:4127992', 'NOTE:3828001', 'NOTE:4293226', 'NOTE:3755582', 'NOTE:164478027', 'NOTE:125943072', 'NOTE:4776258', 'NOTE:4127227', 'NOTE:599038319', 'NOTE:4127202', 'NOTE:490360275', 'NOTE:4127457', 'NOTE:22652867', 'NOTE:16187985', 'NOTE:400739364', 'NOTE:4776344', 'NOTE:4776072', 'NOTE:4127995', 'NOTE:4128007', 'NOTE:4127204', 'NOTE:4127191', 'NOTE:4127195']\n",
    "discharge_notes = ['NOTE:3710478', 'NOTE:67621090', 'NOTE:15612283', 'NOTE:15585515', 'NOTE:3710477', 'NOTE:15587049', 'NOTE:15587406', 'NOTE:15612287', 'NOTE:189094536', 'NOTE:15588370', 'NOTE:15588192', 'NOTE:67621087', 'NOTE:15586337', 'NOTE:153048767', 'NOTE:15587712', 'NOTE:189094539', 'NOTE:97195725', 'NOTE:618403281', 'NOTE:122778232']\n",
    "eeg_notes = ['NOTE:3691367', 'NOTE:3691278', 'NOTE:4120166', 'NOTE:4120168', 'NOTE:3691374', 'NOTE:4120169']\n",
    "mri_notes = ['NOTE:83328334', 'NOTE:83328424', 'NOTE:3447280', 'NOTE:83328328', 'NOTE:83328617', 'NOTE:83328304', 'NOTE:64217783', 'NOTE:251612637', 'NOTE:251612643', 'NOTE:83328337', 'NOTE:3447282', 'NOTE:83328313', 'NOTE:64217795', 'NOTE:83328427', 'NOTE:83328433', 'NOTE:3447264', 'NOTE:3447296', 'NOTE:64217779', 'NOTE:64217573', 'NOTE:8007688', 'NOTE:3447291', 'NOTE:202592750', 'NOTE:83328370', 'NOTE:83328406', 'NOTE:3447318', 'NOTE:83328325', 'NOTE:64217811', 'NOTE:83328403', 'NOTE:64217538', 'NOTE:83328436', 'NOTE:83328322', 'NOTE:4106734', 'NOTE:83328385', 'NOTE:4106510', 'NOTE:64217571', 'NOTE:64217568', 'NOTE:3447321', 'NOTE:3447275', 'NOTE:3447320', 'NOTE:8007690', 'NOTE:64217799', 'NOTE:83328448', 'NOTE:64217642', 'NOTE:83328292', 'NOTE:251612640', 'NOTE:3447290', 'NOTE:3447301', 'NOTE:3447317', 'NOTE:83328621', 'NOTE:83328412', 'NOTE:83328367', 'NOTE:3447300', 'NOTE:333730849', 'NOTE:3447289', 'NOTE:11921317', 'NOTE:3447293', 'NOTE:83328382', 'NOTE:100343890', 'NOTE:4106495', 'NOTE:83328280', 'NOTE:83328286', 'NOTE:8007698', 'NOTE:3447292', 'NOTE:83328400', 'NOTE:3447306', 'NOTE:8007683', 'NOTE:64217638', 'NOTE:3447266', 'NOTE:3447283', 'NOTE:345927837', 'NOTE:83328379', 'NOTE:83328331', 'NOTE:3447322', 'NOTE:83328373', 'NOTE:3447323', 'NOTE:64217409', 'NOTE:83328363', 'NOTE:64217323', 'NOTE:3447260', 'NOTE:3447313', 'NOTE:64217561', 'NOTE:8007708', 'NOTE:83328298', 'NOTE:8007672', 'NOTE:83328430', 'NOTE:3447308', 'NOTE:3447285', 'NOTE:345927816', 'NOTE:3447314', 'NOTE:4106731', 'NOTE:333730843', 'NOTE:83328301', 'NOTE:64217416', 'NOTE:64217539', 'NOTE:64217666', 'NOTE:64217530', 'NOTE:64217393', 'NOTE:64217384', 'NOTE:8007725', 'NOTE:3447302', 'NOTE:11921316', 'NOTE:3447258']\n",
    "ct_notes = ['NOTE:3446996', 'NOTE:3447017', 'NOTE:202592738', 'NOTE:3446983', 'NOTE:3446993', 'NOTE:3447020', 'NOTE:3446980', 'NOTE:3447006', 'NOTE:3446997', 'NOTE:3446998', 'NOTE:4873824', 'NOTE:3446982', 'NOTE:230601754', 'NOTE:3446974', 'NOTE:202592729', 'NOTE:3447012', 'NOTE:3446985', 'NOTE:3446999', 'NOTE:64217632', 'NOTE:4873823', 'NOTE:3447011', 'NOTE:3447004', 'NOTE:230601760', 'NOTE:428074121', 'NOTE:244897858', 'NOTE:64217494', 'NOTE:3446990', 'NOTE:463436530', 'NOTE:64217627', 'NOTE:3446991', 'NOTE:64217513', 'NOTE:64217581', 'NOTE:3447015', 'NOTE:8007643', 'NOTE:3447008', 'NOTE:428074112', 'NOTE:452620691', 'NOTE:64217599', 'NOTE:83328241', 'NOTE:3446979', 'NOTE:3447018', 'NOTE:64217357', 'NOTE:3446995']\n",
    "all_relevant = neurology_notes + discharge_notes + eeg_notes + mri_notes + ct_notes\n",
    "\n",
    "note_cat_dict = {\n",
    "    'neurology_notes': neurology_notes,\n",
    "    'discharge_notes': discharge_notes,\n",
    "    'eeg_notes': eeg_notes,\n",
    "    'mri_notes': mri_notes,\n",
    "    'ct_notes': ct_notes,\n",
    "    'all_relevant': all_relevant\n",
    "}\n",
    "\n",
    "frozen=1\n",
    "split_num=4\n",
    "label='composite'\n",
    "\n",
    "key = 'all_relevant'\n",
    "base_path = f\"\"\"/n/data1/hms/dbmi/beaulieu-jones/lab/epilepsy-transformer/classifier-input\"\"\"\n",
    "fname = f\"{base_path}/{key}_classifier_no_filter_input.csv\"\n",
    "\n",
    "df = pd.read_csv(fname)\n",
    "input_df = df[~df['text'].isna()]\n",
    "\n",
    "label_df = pd.read_csv('./data/labels.csv')\n",
    "label_df.fillna(0, inplace=True)\n",
    "label_df.describe()\n",
    "label_cols = label_df.columns\n",
    "pd.set_option('display.max_colwidth', None)"
   ]
  },
  {
   "cell_type": "code",
   "execution_count": null,
   "id": "7854c166-ea69-4460-a0a2-94bfc99eb0f7",
   "metadata": {
    "tags": []
   },
   "outputs": [],
   "source": [
    "vocab_sizek = 52\n",
    "\n",
    "training_round=1\n",
    "# checkpoint = \"checkpoint-81000\"\n",
    "max_token_length=4096\n",
    "\n",
    "base_path = f\"\"\"/n/data1/hms/dbmi/beaulieu-jones/lab/epilepsy-transformer/models/cat-scratch-longformer\"\"\"\n",
    "output_comb_dir = f\"{base_path}/clean-model\"\n",
    "\n",
    "from tokenizers import Tokenizer\n",
    "trained_tok_file = f\"{base_path}/tokenizers/bpe_no_filter_{vocab_sizek}_all_relevant.json\"\n",
    "tokenizer = Tokenizer.from_file(trained_tok_file)\n",
    "tokenizer.enable_truncation(max_length=max_token_length)\n",
    "print(tokenizer)\n",
    "\n",
    "from tokenizers.implementations import BaseTokenizer\n",
    "from transformers import PreTrainedTokenizerFast, AutoTokenizer\n",
    "fast_tokenizer = PreTrainedTokenizerFast(tokenizer_object=tokenizer, model_max_length=max_token_length)\n",
    "fast_tokenizer.add_special_tokens({'pad_token': '[PAD]', 'mask_token': '[MASK]'})\n",
    "print(fast_tokenizer)\n",
    "\n",
    "# model_wcheckpoint = f\"{output_comb_dir}/{training_round}/{checkpoint}\"\n",
    "# model_wcheckpoint = f\"{output_comb_dir}/{training_round}/\"\n",
    "model_wcheckpoint = f\"./data/clean_model_{label}_{frozen}_{split_num}\"\n",
    "\n",
    "from transformers import AutoTokenizer, AutoModelForSequenceClassification\n",
    "model = AutoModelForSequenceClassification.from_pretrained(model_wcheckpoint, \n",
    "                                                           num_labels=1)\n"
   ]
  },
  {
   "cell_type": "code",
   "execution_count": null,
   "id": "8c61d3c3-b8e0-47ae-b062-ecc57a008aa5",
   "metadata": {
    "tags": []
   },
   "outputs": [],
   "source": [
    "from datasets import load_metric, Dataset\n",
    "\n",
    "# aggregate\n",
    "label_df['composite'] = 0.0\n",
    "label_df.loc[label_df['structured_drug_class'] > 1, 'composite'] = 1\n",
    "label_df.loc[label_df['note_drug_classes'] > 2, 'composite'] = 1\n",
    "label_df.loc[label_df['status_epilepticus'] > 0, 'composite'] = 1\n",
    "label_df.loc[label_df['inpatient_seizure'] > 0, 'composite'] = 1\n",
    "label_df.loc[label_df['seizure_icd_days'] > 4, 'composite'] = 1\n",
    "label_df.loc[label_df['seizure_visit_days'] > 4, 'composite'] = 1\n",
    "label_df.loc[label_df['neuro_note_count'] > 4, 'composite'] = 1\n",
    "label_df.loc[label_df['proc_dates'] > 0, 'composite'] = 1\n",
    "\n",
    "\n",
    "# aggregate\n",
    "label_df['label'] = 0\n",
    "if label == 'composite':\n",
    "    label_df['label'] = label_df['composite']\n",
    "elif label in ['status_epilepticus', 'total_inpatient', 'inpatient_seizure', 'proc_dates']:\n",
    "    label_df.loc[label_df[label==0] , 'label'] = 0\n",
    "    label_df.loc[label_df[label>0] , 'label'] = 1\n",
    "elif label in ['seizure_icd_days', 'seizure_visit_days', 'structured_drug_class', 'note_drug_classes',\n",
    "             'neuro_note_count']:\n",
    "    label_df.loc[label_df[label<=1] , 'label'] = 0\n",
    "    label_df.loc[label_df[label>1] , 'label'] = 1\n",
    "else:\n",
    "    raise Exception('stop')\n",
    "    \n",
    "input_df = input_df.merge(label_df, on='patient_num', how='left')\n",
    "\n",
    "from sklearn.model_selection import StratifiedKFold\n",
    "folds = StratifiedKFold(n_splits=5, shuffle=True, random_state=42)\n",
    "\n",
    "split_series = input_df.groupby(['patient_num'])['label'].max()\n"
   ]
  },
  {
   "cell_type": "code",
   "execution_count": null,
   "id": "ce8ac674-0ac7-46cd-b2d4-e87ca3c58390",
   "metadata": {
    "tags": []
   },
   "outputs": [],
   "source": [
    "pat_level_df = pd.DataFrame(split_series)\n",
    "pat_level_df.reset_index(inplace=True)\n",
    "pat_level_df.columns = ['patient_num', 'label']\n",
    "display(pat_level_df)\n",
    "\n",
    "\n",
    "splits = folds.split(np.zeros(pat_level_df['patient_num'].nunique()), pat_level_df['label'])\n",
    "\n",
    "for i in range(split_num+1):\n",
    "    train_idx, val_idx = next(splits)\n",
    "print(len(train_idx), len(val_idx))"
   ]
  },
  {
   "cell_type": "code",
   "execution_count": null,
   "id": "d2c9ea21-7891-47dd-9639-53aa6ee70880",
   "metadata": {
    "tags": []
   },
   "outputs": [],
   "source": [
    "# 0 (47438812622, 11884610236)\n",
    "# 1 (48210633783, 11112789075)\n",
    "# 1 (48210633783, 11112789075)\n",
    "# 2 (47736432193, 11586990665)\n",
    "pat_level_df.iloc[train_idx]['patient_num'].sum(), pat_level_df.iloc[val_idx]['patient_num'].sum()"
   ]
  },
  {
   "cell_type": "code",
   "execution_count": null,
   "id": "25811016-8a39-4a12-86ce-9b1fb5658a23",
   "metadata": {
    "tags": []
   },
   "outputs": [],
   "source": [
    "input_df['text_len'] = input_df['text'].str.len()"
   ]
  },
  {
   "cell_type": "code",
   "execution_count": null,
   "id": "42ad45ec-69ed-4975-9dca-89043a0d0d77",
   "metadata": {
    "tags": []
   },
   "outputs": [],
   "source": [
    "input_df.iloc[val_idx]['text_len'].describe()\n"
   ]
  },
  {
   "cell_type": "code",
   "execution_count": null,
   "id": "9bc1183b-efb9-4770-b659-edc8c51d3955",
   "metadata": {
    "tags": []
   },
   "outputs": [],
   "source": [
    "# len(input_text[153])"
   ]
  },
  {
   "cell_type": "code",
   "execution_count": null,
   "id": "ae6a0cff-37db-4dda-a2d5-156669a3c209",
   "metadata": {
    "tags": []
   },
   "outputs": [],
   "source": [
    "from transformers import TextClassificationPipeline\n",
    "from tqdm.auto import tqdm\n",
    "\n",
    "input_text = input_df.iloc[val_idx]['text'].tolist()\n",
    "output_list = []\n",
    "print(len(input_text))\n",
    "\n",
    "tokenizer_kwargs = {'padding':True,'truncation':True,'max_length':4094}\n",
    "\n",
    "# pipe = TextClassificationPipeline(model=model, tokenizer=fast_tokenizer,\n",
    "#                                   device=-1)\n",
    "\n",
    "# for example in tqdm(input_text[:20]):\n",
    "#     output_list.extend(pipe(example, **tokenizer_kwargs))\n",
    "\n",
    "pipe = TextClassificationPipeline(model=model, tokenizer=fast_tokenizer,\n",
    "                                  device=1)\n",
    "\n",
    "for example in tqdm(input_text):\n",
    "    output_list.extend(pipe(example, **tokenizer_kwargs))\n",
    "\n",
    "# for i in range(0, len(input_text), 1):\n",
    "#     print(i, len(output_list))\n",
    "    \n",
    "#     start = i\n",
    "#     if i+8 <= len(input_text):\n",
    "#         stop = i+8\n",
    "#     else:\n",
    "#         stop = len(input_text)\n",
    "#     output_list.extend(pipe(input_text[start:stop], **tokenizer_kwargs))\n",
    "    \n"
   ]
  },
  {
   "cell_type": "code",
   "execution_count": null,
   "id": "179b2b33-798f-4c40-99c0-f234477202b9",
   "metadata": {
    "tags": []
   },
   "outputs": [],
   "source": [
    "val_df = input_df.iloc[val_idx]\n",
    "print(val_df.shape)\n",
    "score_df = pd.DataFrame(output_list)\n",
    "print(score_df.shape)\n",
    "\n",
    "val_df['pred'] = score_df['score'].tolist()\n",
    "print(val_df.shape)"
   ]
  },
  {
   "cell_type": "code",
   "execution_count": null,
   "id": "403f4b9d-2b82-4679-b355-6a74d2c977b5",
   "metadata": {
    "tags": []
   },
   "outputs": [],
   "source": [
    "score_df.describe()"
   ]
  },
  {
   "cell_type": "code",
   "execution_count": null,
   "id": "d06d6d04-31f2-434e-b870-0547742ffa28",
   "metadata": {
    "tags": []
   },
   "outputs": [],
   "source": [
    "val_df['pred'].describe()"
   ]
  },
  {
   "cell_type": "code",
   "execution_count": null,
   "id": "1b4ae49e-2f07-41ae-9eda-cf4e8a3ab6f1",
   "metadata": {
    "tags": []
   },
   "outputs": [],
   "source": [
    "val_df['dist_from_half'] = abs(val_df['pred']-0.5)"
   ]
  },
  {
   "cell_type": "code",
   "execution_count": null,
   "id": "b0380786-2161-4a99-948e-beee6d39d4eb",
   "metadata": {
    "tags": []
   },
   "outputs": [],
   "source": [
    "val_df.groupby('patient_num').max('dist_from_half')['pred']\n",
    "val_df.groupby('patient_num').max('dist_from_half')['label']"
   ]
  },
  {
   "cell_type": "code",
   "execution_count": null,
   "id": "98672efe-b510-4ece-9b1c-d324064006b8",
   "metadata": {
    "tags": []
   },
   "outputs": [],
   "source": [
    "# read existing file!\n",
    "score_dict_list = []"
   ]
  },
  {
   "cell_type": "code",
   "execution_count": null,
   "id": "68fe50f4-3b69-4b08-a492-f71704756380",
   "metadata": {
    "tags": []
   },
   "outputs": [],
   "source": [
    "import evaluate\n",
    "predictions = val_df.groupby('patient_num').max('dist_from_half')['pred']\n",
    "labels = val_df.groupby('patient_num').max('dist_from_half')['label']\n",
    "\n",
    "roc_auc_metric = load_metric(\"roc_auc\") \n",
    "auc = roc_auc_metric.compute(references=labels, prediction_scores=predictions)['roc_auc']\n",
    "print(auc)\n",
    "\n",
    "score_dict_list.append({\n",
    "                        'outcome': label,\n",
    "                        'method':f\"transformer_frozen:{frozen}\", \n",
    "                        'metric':'auc',\n",
    "                        'score': auc,\n",
    "                        'cval': split_num,\n",
    "})\n",
    "\n",
    "binary_pred = np.where(predictions > 0.5, 1, 0)\n",
    "f1_metric = load_metric(\"f1\") \n",
    "f1 = f1_metric.compute(predictions=binary_pred, references=labels)['f1']\n",
    "print(f1)\n",
    "\n",
    "score_dict_list.append({\n",
    "                        'outcome': label,\n",
    "                        'method':f\"transformer_frozen:{frozen}\", \n",
    "                        'metric':'f1',\n",
    "                        'score': f1,\n",
    "                        'cval': split_num,\n",
    "})\n",
    "\n",
    "# acc_metric = evaluate.load('accuracy') \n",
    "# acc = acc_metric.compute(predictions=binary_pred, references=labels)['accuracy']\n",
    "# print(acc)\n",
    "\n",
    "metric1 = load_metric(\"precision\")\n",
    "metric2 = load_metric(\"recall\")\n",
    "\n",
    "precision = metric1.compute(predictions=binary_pred, references=labels)[\"precision\"]\n",
    "recall = metric2.compute(predictions=binary_pred, references=labels)[\"recall\"]\n",
    "print(precision)\n",
    "print(recall)\n",
    "\n",
    "score_dict_list.append({\n",
    "                        'outcome':label,\n",
    "                        'method':f\"transformer_frozen:{frozen}\", \n",
    "                        'metric':'precision',\n",
    "                        'score': precision,\n",
    "                        'cval': split_num,\n",
    "})\n",
    "\n",
    "score_dict_list.append({\n",
    "                        'outcome':label,\n",
    "                        'method':f\"transformer_frozen:{frozen}\", \n",
    "                        'metric':'recall',\n",
    "                        'score': recall,\n",
    "                        'cval': split_num,\n",
    "})"
   ]
  },
  {
   "cell_type": "code",
   "execution_count": null,
   "id": "ce6c815a-1320-4117-b639-a17e63f857bf",
   "metadata": {
    "tags": []
   },
   "outputs": [],
   "source": [
    "score_dict_list\n",
    "df = pd.DataFrame(score_dict_list)\n",
    "df.to_csv(f\"./data/score_transformer_{label}_{frozen}_{split_num}.csv\", index=False)"
   ]
  }
 ],
 "metadata": {
  "kernelspec": {
   "display_name": "Python 3 (ipykernel)",
   "language": "python",
   "name": "python3"
  },
  "language_info": {
   "codemirror_mode": {
    "name": "ipython",
    "version": 3
   },
   "file_extension": ".py",
   "mimetype": "text/x-python",
   "name": "python",
   "nbconvert_exporter": "python",
   "pygments_lexer": "ipython3",
   "version": "3.9.16"
  }
 },
 "nbformat": 4,
 "nbformat_minor": 5
}
