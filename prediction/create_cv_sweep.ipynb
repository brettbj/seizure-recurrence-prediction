{
 "cells": [
  {
   "cell_type": "code",
   "execution_count": null,
   "id": "dc70511b-626f-4142-8106-729618680619",
   "metadata": {
    "tags": []
   },
   "outputs": [],
   "source": [
    "import os\n",
    "labels = ['composite', 'proc_dates', 'note_drug_classes', 'neuro_note_count', \n",
    "          'status_epilepticus', 'total_inpatient', 'inpatient_seizure',\n",
    "          'seizure_icd_days', 'seizure_visit_days', 'structured_drug_class']\n",
    "print(len(labels))\n",
    "\n",
    "output = \"\"\n",
    "for l in labels:\n",
    "    for split in range(5): \n",
    "        \n",
    "        # not frozen\n",
    "        results_path = f\"./data/clean_model_{l}_0_{split}/config.json\"\n",
    "        print(results_path)\n",
    "        if os.path.exists(results_path):\n",
    "            print(\"Result already exists... skipping... remove to re-run\") \n",
    "        else:\n",
    "            output += f\"python3 run_tf_training.py --label {l} --frozen 0 --cv_split {split} && \\n\"\n",
    "        \n",
    "        results_path = f\"./data/clean_model_{l}_1_{split}/config.json\"\n",
    "        print(results_path)\n",
    "        if os.path.exists(results_path):\n",
    "            print(\"Result already exists... skipping... remove to re-run\") \n",
    "        else:\n",
    "            output += f\"python3 run_tf_training.py --label {l} --frozen 1 --cv_split {split} && \\n\""
   ]
  },
  {
   "cell_type": "code",
   "execution_count": null,
   "id": "2dadc6c7-0a8e-497f-ba66-7a4cd5c0455d",
   "metadata": {
    "tags": []
   },
   "outputs": [],
   "source": [
    "import sys\n",
    "original_stdout = sys.stdout\n",
    "\n",
    "with open(f'./run_baseline_search.sh', 'w') as f:\n",
    "    sys.stdout = f # Change the standard output to the file we created.\n",
    "    print('#!/bin/bash')\n",
    "    print(output[:-5])\n",
    "    \n",
    "sys.stdout = original_stdout"
   ]
  }
 ],
 "metadata": {
  "kernelspec": {
   "display_name": "tf-metal",
   "language": "python",
   "name": "tf-metal"
  },
  "language_info": {
   "codemirror_mode": {
    "name": "ipython",
    "version": 3
   },
   "file_extension": ".py",
   "mimetype": "text/x-python",
   "name": "python",
   "nbconvert_exporter": "python",
   "pygments_lexer": "ipython3",
   "version": "3.9.16"
  }
 },
 "nbformat": 4,
 "nbformat_minor": 5
}
