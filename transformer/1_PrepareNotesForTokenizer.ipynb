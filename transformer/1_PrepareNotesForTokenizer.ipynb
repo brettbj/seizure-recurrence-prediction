{
 "cells": [
  {
   "cell_type": "code",
   "execution_count": null,
   "id": "6972b069-f4fd-4719-aadf-1f353a78aae9",
   "metadata": {
    "tags": []
   },
   "outputs": [],
   "source": [
    "import pandas as pd\n",
    "import time\n",
    "import argparse\n",
    "from os.path import exists\n",
    "\n",
    "import logging\n",
    "logger = logging.getLogger(\"spacy\")\n",
    "logger.setLevel(logging.ERROR)\n",
    "\n",
    "import warnings \n",
    "warnings.filterwarnings(action='ignore')\n",
    "\n",
    "\n",
    "OUTPUT_DIR = '/n/data1/hms/dbmi/beaulieu-jones/lab/epilepsy-transformer' \n",
    "# concept_cd = 'NOTE:3446957'"
   ]
  },
  {
   "cell_type": "code",
   "execution_count": null,
   "id": "878105a3-34db-477f-af66-df0c5a92c056",
   "metadata": {
    "tags": []
   },
   "outputs": [],
   "source": [
    "popular_notes = pd.read_csv('./resources/popular_notes.csv')\n",
    "pop_note_list = popular_notes[popular_notes['count']>10]['concept_cd'].tolist()"
   ]
  },
  {
   "cell_type": "code",
   "execution_count": null,
   "id": "8fc9522a-5f9c-4ae7-be8e-2364cc0e9528",
   "metadata": {
    "tags": []
   },
   "outputs": [],
   "source": [
    "print(len(pop_note_list))"
   ]
  },
  {
   "cell_type": "code",
   "execution_count": null,
   "id": "2e9026ba-491f-4536-87ce-d8243abf4908",
   "metadata": {
    "scrolled": true,
    "tags": []
   },
   "outputs": [],
   "source": [
    "%%time\n",
    "\n",
    "j=0\n",
    "for concept_cd in pop_note_list:\n",
    "    j+=1\n",
    "    print(j, concept_cd)\n",
    "    if not exists(f'{OUTPUT_DIR}/preproc_note/{concept_cd}.txt'):\n",
    "        if exists(f\"{OUTPUT_DIR}/raw/{concept_cd}.txt\"):\n",
    "            notes = pd.read_csv(f\"{OUTPUT_DIR}/raw/{concept_cd}.txt\") \n",
    "            print('got notes', notes.shape)\n",
    "\n",
    "            output_file_name = f\"{OUTPUT_DIR}/preproc_note/{concept_cd}.txt\"\n",
    "            print(output_file_name)\n",
    "\n",
    "            notes['text'].str.replace('\\n', ' ')\n",
    "\n",
    "            pd.set_option('display.max_colwidth', None)\n",
    "            notes['text'] = notes['text'].str.replace('\\n', ' ')\n",
    "            notes = notes[notes['text'].str.len() > 50]\n",
    "            print(notes.shape)\n",
    "\n",
    "            if notes.shape[0] > 0:\n",
    "                with open(output_file_name,'w') as f:\n",
    "                    for text in notes['text']:\n",
    "                        if text != None and len(text) != 0 :\n",
    "                            f.write(text)\n",
    "                            f.write('\\n')\n"
   ]
  },
  {
   "cell_type": "code",
   "execution_count": null,
   "id": "dcb1e040-4631-44ce-8077-0a1563443240",
   "metadata": {
    "tags": []
   },
   "outputs": [],
   "source": [
    "from os.path import exists\n",
    "\n",
    "top_rows = popular_notes.sort_values(by='count', ascending=False)\n",
    "\n",
    "j = 0\n",
    "for i, row in top_rows.iterrows():\n",
    "    j+=1\n",
    "    path_to_file = f\"{OUTPUT_DIR}/preproc_note/{row['concept_cd']}.txt\"\n",
    "    \n",
    "    file_exists = exists(path_to_file)\n",
    "    if file_exists:\n",
    "        print(f\"{row['concept_cd']} found\")\n",
    "    else:\n",
    "        print(f\"{path_to_file} doesn't exist\")\n",
    "    if j > 10:\n",
    "        break"
   ]
  }
 ],
 "metadata": {
  "kernelspec": {
   "display_name": "Python 3 (ipykernel)",
   "language": "python",
   "name": "python3"
  },
  "language_info": {
   "codemirror_mode": {
    "name": "ipython",
    "version": 3
   },
   "file_extension": ".py",
   "mimetype": "text/x-python",
   "name": "python",
   "nbconvert_exporter": "python",
   "pygments_lexer": "ipython3",
   "version": "3.9.16"
  }
 },
 "nbformat": 4,
 "nbformat_minor": 5
}
