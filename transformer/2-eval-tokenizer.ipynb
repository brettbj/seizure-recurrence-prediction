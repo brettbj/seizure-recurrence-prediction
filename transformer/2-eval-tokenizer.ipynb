{
 "cells": [
  {
   "cell_type": "code",
   "execution_count": null,
   "id": "55f6b3e8-0b50-48e4-8cb0-d8dcc385e3f7",
   "metadata": {
    "tags": []
   },
   "outputs": [],
   "source": [
    "base_path = f\"\"\"/n/data1/hms/dbmi/beaulieu-jones/lab/epilepsy-transformer\"\"\"\n",
    "model_version = \"longformer-model\"\n",
    "input_file = 'input'\n",
    "vocab_sizek = 52\n",
    "file_lim = 4000\n",
    "max_token_length=4096\n",
    "\n",
    "base_path = f\"\"\"/n/data1/hms/dbmi/beaulieu-jones/lab/epilepsy-transformer\"\"\"\n",
    "model_version = \"longformer-model\"\n",
    "input_file = 'input'\n",
    "input_folder = f\"{base_path}/input_note/\"\n",
    "output_comb_dir = f\"{base_path}/models/scratch-longformer-{input_file}-{max_token_length}\""
   ]
  },
  {
   "cell_type": "code",
   "execution_count": null,
   "id": "041f3e51-a311-4495-ade8-91a14779dd3c",
   "metadata": {
    "tags": []
   },
   "outputs": [],
   "source": [
    "from tokenizers import Tokenizer\n",
    "\n",
    "trained_tok_file = f\"/n/data1/hms/dbmi/beaulieu-jones/lab/epilepsy-transformer/tokenizers/bpe_52_40_4096.json\"\n",
    "# trained_tok_file = f\"{base_path}/tokenizers/bpe_{vocab_sizek}_{file_lim}_{max_token_length}.json\"\n",
    "tokenizer = Tokenizer.from_file(trained_tok_file)\n"
   ]
  },
  {
   "cell_type": "code",
   "execution_count": null,
   "id": "2364036e-e40c-4d8f-ad2b-9ae2c4e9efb5",
   "metadata": {
    "tags": []
   },
   "outputs": [],
   "source": [
    "tokenizer.encode(\"this is a teset of levetiracetam\")"
   ]
  },
  {
   "cell_type": "code",
   "execution_count": null,
   "id": "4068d0d8-b78b-4d64-b2b1-59e006e2f19d",
   "metadata": {
    "tags": []
   },
   "outputs": [],
   "source": [
    "tokenizer.encode(\"this is a test of levetiracetam\").tokens"
   ]
  }
 ],
 "metadata": {
  "kernelspec": {
   "display_name": "Python 3 (ipykernel)",
   "language": "python",
   "name": "python3"
  },
  "language_info": {
   "codemirror_mode": {
    "name": "ipython",
    "version": 3
   },
   "file_extension": ".py",
   "mimetype": "text/x-python",
   "name": "python",
   "nbconvert_exporter": "python",
   "pygments_lexer": "ipython3",
   "version": "3.9.16"
  }
 },
 "nbformat": 4,
 "nbformat_minor": 5
}
